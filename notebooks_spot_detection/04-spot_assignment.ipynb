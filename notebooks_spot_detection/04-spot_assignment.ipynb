{
 "cells": [
  {
   "cell_type": "markdown",
   "id": "4dabf0d3",
   "metadata": {},
   "source": [
    "# <span style=\"color:darkblue\">04-Spot_Assignment</span>"
   ]
  },
  {
   "cell_type": "markdown",
   "id": "6793dd08",
   "metadata": {},
   "source": [
    "In this notebook we will assign the detected RNAs and Txs to each uniquely labeleld cell in our Cellpose-produced cell and nuclear masks."
   ]
  },
  {
   "cell_type": "markdown",
   "id": "a948b47b",
   "metadata": {},
   "source": [
    "## 4.0 - Load libraries"
   ]
  },
  {
   "cell_type": "code",
   "execution_count": 1,
   "id": "eff95345",
   "metadata": {},
   "outputs": [],
   "source": [
    "from skimage import io\n",
    "import numpy as np\n",
    "import napari\n",
    "import pandas as pd\n",
    "from glob import glob\n",
    "from skimage.measure import regionprops_table, regionprops\n",
    "\n",
    "import sys\n",
    "sys.path.append('../')\n",
    "\n",
    "from src.misc import group_experiments, load_data"
   ]
  },
  {
   "cell_type": "markdown",
   "id": "2e0deeda-f53b-4ae5-b0dd-4c925f33def8",
   "metadata": {},
   "source": [
    "***"
   ]
  },
  {
   "cell_type": "markdown",
   "id": "e51e1f3e",
   "metadata": {},
   "source": [
    "## 4.1 - Load spot & cell/nuclei mask data and check image"
   ]
  },
  {
   "cell_type": "code",
   "execution_count": 2,
   "id": "4d7d4454",
   "metadata": {},
   "outputs": [],
   "source": [
    "#choose FISH channel\n",
    "channel='CY35'\n",
    "Strain= 'CET111'\n",
    "mRNA='HWP1CAL610CLB2Q670'\n",
    "condition='SPIDER37'\n",
    "Fov='02'\n",
    "\n",
    "# load image data\n",
    "RNAs = io.imread(f'../data/restructured_data/replicate1/{Strain}_{mRNA}_{condition}_{channel}_{Fov}.tif')\n",
    "DAPI = io.imread(f'../data/restructured_data/replicate1//{Strain}_{mRNA}_{condition}_DAPI_{Fov}.tif')\n",
    "DIC = io.imread(f'../data/restructured_data/replicate1//{Strain}_{mRNA}_{condition}_DIC_{Fov}.tif')\n",
    "mask = io.imread(f'../data/restructured_data/replicate1//Masks/{Strain}_{mRNA}_{condition}_DIC_{Fov}_seg.tif')\n",
    "nuclear_mask = io.imread(f'../data/restructured_data/replicate1/Masks/{Strain}_{mRNA}_{condition}_DAPI_{Fov}_seg.tif')\n",
    "\n",
    "# load spot data\n",
    "spot_data = np.load(glob(f'../data/restructured_data/replicate1/Spots/{Strain}_{mRNA}_{condition}_{channel}_{Fov}_spots_thr*.npy')[0])\n",
    "dense_data = np.load(glob(f'../data/restructured_data/replicate1/Spots decomposition/{Strain}_{mRNA}_{condition}_{channel}_{Fov}_spots_thr*_dd_regions.npy')[0])"
   ]
  },
  {
   "cell_type": "code",
   "execution_count": 3,
   "id": "53cb2058",
   "metadata": {},
   "outputs": [],
   "source": [
    "def preprocess_spot_data(spot_data, dense_data):\n",
    "    # spot_data has the form:\n",
    "    # z, y, x\n",
    "\n",
    "    # dense data has the form \n",
    "    # z, y, x, mRNA counts, -- other information --\n",
    "\n",
    "    # let's introduce mRNA counts of 1 for the spots:    \n",
    "    spot_data_padded = np.pad(spot_data, ((0,0),(0,1)), mode='constant', constant_values=1)\n",
    "    \n",
    "    # discard other information and merge\n",
    "    spot_data_combined = np.concatenate([spot_data_padded, dense_data[:,:4]], axis=0)\n",
    "    return spot_data_combined\n",
    "\n",
    "\n",
    "def count_spots(mask, nuclear_mask, spot_data, cells):    \n",
    "    for z, y, x, number in spot_data:\n",
    "        cell_id = mask[y, x]\n",
    "        nucleus = nuclear_mask[y, x]\n",
    "\n",
    "        if number == 1:\n",
    "            cells[cell_id]['spots_per_cell'] += number\n",
    "        else:\n",
    "            cells[cell_id]['dense_regions_per_cell'] += 1\n",
    "            cells[cell_id]['decomposed_RNAs'] += number\n",
    "\n",
    "            # if the spot sits in the nucleus, \n",
    "            # also increase nascent RNAs and transcription sites\n",
    "            if nucleus > 0:\n",
    "                cells[cell_id]['tx_per_cell'] += 1\n",
    "                cells[cell_id]['nascent_RNAs'] += number\n",
    "    return cells\n",
    "\n",
    "def count_nuclei(mask, nuclear_mask, cells):\n",
    "    # count nuclei per cell - hyphae may have multiple ones!\n",
    "    for nucleus in regionprops(nuclear_mask):\n",
    "        y, x = nucleus.centroid\n",
    "        cell_id = mask[int(y), int(x)]\n",
    "        cells[cell_id]['nuclei'] += 1\n",
    "    return cells\n",
    "\n",
    "def spot_assignment(mask, nuclear_mask, spot_data, dense_data):\n",
    "    cells = {}\n",
    "    \n",
    "    for cell_id in np.unique(mask):\n",
    "        cells[cell_id] = {\n",
    "            'spots_per_cell': 0,\n",
    "            'dense_regions_per_cell': 0,\n",
    "            'decomposed_RNAs': 0,\n",
    "            'tx_per_cell': 0,\n",
    "            'nascent_RNAs': 0,\n",
    "            'nuclei': 0\n",
    "        }\n",
    "        \n",
    "    spot_data_combined = preprocess_spot_data(spot_data, dense_data)\n",
    "    \n",
    "    cells = count_spots(mask, nuclear_mask, spot_data_combined, cells)\n",
    "    cells = count_nuclei(mask, nuclear_mask, cells)\n",
    "    \n",
    "    # remove spots on background\n",
    "    del cells[0]\n",
    "\n",
    "    # convert to dataframe, collect object information and merge\n",
    "    df = pd.DataFrame(cells).T.reset_index().rename(columns={'index': 'label'})\n",
    "    df['total_RNAs_per_cell'] = df['spots_per_cell'] + df['decomposed_RNAs'] - df['dense_regions_per_cell']\n",
    "\n",
    "    props = pd.DataFrame(regionprops_table(mask, properties=['label', 'bbox', 'area', 'eccentricity']))\n",
    "    df = props.merge(df, on='label')\n",
    "\n",
    "    return df"
   ]
  },
  {
   "cell_type": "code",
   "execution_count": 4,
   "id": "97fbbb58",
   "metadata": {},
   "outputs": [],
   "source": [
    "df = spot_assignment(mask, nuclear_mask, spot_data, dense_data)"
   ]
  },
  {
   "cell_type": "code",
   "execution_count": 5,
   "id": "a75037bd",
   "metadata": {},
   "outputs": [],
   "source": [
    "root_dir = '../data/restructured_data/replicate1'\n",
    "savename = f\"{root_dir}/Results/{Strain}_{mRNA}_{condition}_{channel}_{Fov}.csv\""
   ]
  },
  {
   "cell_type": "code",
   "execution_count": 6,
   "id": "323d7b8e",
   "metadata": {},
   "outputs": [],
   "source": [
    "df.to_csv(savename)"
   ]
  },
  {
   "cell_type": "markdown",
   "id": "7c9bfdd3-c5ed-4bdb-b90c-4a6f17171903",
   "metadata": {},
   "source": [
    "***"
   ]
  },
  {
   "cell_type": "markdown",
   "id": "5748c891",
   "metadata": {},
   "source": [
    "## 4.2 - Batch assignment"
   ]
  },
  {
   "cell_type": "code",
   "execution_count": null,
   "id": "000269e9",
   "metadata": {},
   "outputs": [],
   "source": [
    "root_dir = '../data/restructured_data/replicate1'"
   ]
  },
  {
   "cell_type": "code",
   "execution_count": null,
   "id": "a22da995",
   "metadata": {},
   "outputs": [],
   "source": [
    "experiments = group_experiments(root_dir)\n",
    "\n",
    "print('I found the following experiments:')\n",
    "print(experiments.keys())\n",
    "print('select applicable experiments')"
   ]
  },
  {
   "cell_type": "code",
   "execution_count": null,
   "id": "49d241df",
   "metadata": {},
   "outputs": [],
   "source": [
    "experiments_to_process = experiments.keys()\n",
    "\n",
    "for identifier in experiments_to_process:\n",
    "    fovs = experiments[identifier]\n",
    "    \n",
    "    for fov, paths, in fovs.items():\n",
    "        print(f'processing {identifier=}, {fov=}')\n",
    "        data = load_data(paths)\n",
    "        savename = f\"{root_dir}/Results/{identifier}_{channel}_{fov}.csv\"\n",
    "        \n",
    "        process = True\n",
    "        # check if all files required for this step have been loaded\n",
    "        for entry in ['spots', 'dense', 'cell_mask', 'nuclear_mask']:\n",
    "            if data.get(entry) is None:\n",
    "                print(f'{identifier=}, {fov=}, {entry=} could not be found')\n",
    "                print(f'skipping {identifier=}, {fov=}!')\n",
    "                process=False\n",
    "        \n",
    "        if process:\n",
    "            df = spot_assignment(\n",
    "                data.get('cell_mask'), \n",
    "                data.get('nuclear_mask'),\n",
    "                data.get('spots'),\n",
    "                data.get('dense')\n",
    "            )\n",
    "            \n",
    "            print(f'saving data to {savename}')\n",
    "            df.to_csv(savename)\n",
    "            print('done.')\n",
    "        \n",
    "        print(10*'-')"
   ]
  },
  {
   "cell_type": "code",
   "execution_count": null,
   "id": "71c09c5a",
   "metadata": {},
   "outputs": [],
   "source": []
  }
 ],
 "metadata": {
  "kernelspec": {
   "display_name": "Python 3 (ipykernel)",
   "language": "python",
   "name": "python3"
  },
  "language_info": {
   "codemirror_mode": {
    "name": "ipython",
    "version": 3
   },
   "file_extension": ".py",
   "mimetype": "text/x-python",
   "name": "python",
   "nbconvert_exporter": "python",
   "pygments_lexer": "ipython3",
   "version": "3.10.9"
  }
 },
 "nbformat": 4,
 "nbformat_minor": 5
}
