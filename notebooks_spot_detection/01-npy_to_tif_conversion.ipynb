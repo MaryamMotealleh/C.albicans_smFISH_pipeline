{
 "cells": [
  {
   "cell_type": "markdown",
   "metadata": {},
   "source": [
    "# <span style=\"color:darkblue\">01-npy to .tif conversion</span>"
   ]
  },
  {
   "cell_type": "markdown",
   "metadata": {},
   "source": [
    "The output of the cellpose gui is .npy. However, for our downstream analyses, it's easier to work with tiff files. Therefore, in this notebook we will convert our output Masks.npy to tiffs. Additionally, this notebook can be used to download the example data of zenodo in the data folder."
   ]
  },
  {
   "cell_type": "markdown",
   "metadata": {},
   "source": [
    "## 1.0 - Load libraries and optional example data"
   ]
  },
  {
   "cell_type": "code",
   "execution_count": null,
   "metadata": {},
   "outputs": [],
   "source": [
    "import numpy as np\n",
    "\n",
    "from glob import glob\n",
    "from pathlib import Path\n",
    "from skimage import io\n",
    "\n",
    "import sys\n",
    "sys.path.append('../')\n",
    "\n",
    "from src.misc import ensure_files_exist, download_sample_data"
   ]
  },
  {
   "cell_type": "code",
   "execution_count": null,
   "metadata": {},
   "outputs": [],
   "source": [
    "# paths\n",
    "root_dir = '../data'"
   ]
  },
  {
   "cell_type": "code",
   "execution_count": null,
   "metadata": {},
   "outputs": [],
   "source": [
    "# optionally, you can download sample data. The function below\n",
    "# will create a folder in the target directory.\n",
    "# in order to proceed, you need to set this folder as the root directory \n",
    "\n",
    "# only uncomment the lines below if you want to download the data\n",
    "#download_sample_data(\n",
    "#   target_dir='../data', \n",
    "#   url='https://zenodo.org/record/8308244/files/zipped_example_data_smFISH_C.albicans.zip?download=1'\n",
    "#)\n",
    "\n",
    "root_dir = '../Data/restructured_data/replicate1'"
   ]
  },
  {
   "cell_type": "markdown",
   "metadata": {},
   "source": [
    "***"
   ]
  },
  {
   "cell_type": "markdown",
   "metadata": {},
   "source": [
    "## 2.0 - Checking provided file structure and data"
   ]
  },
  {
   "cell_type": "markdown",
   "metadata": {},
   "source": [
    "#### expected folder structure:\n",
    "\n",
    "├───$\\hspace{5pt}$ root_dir <br>\n",
    "$\\hspace{30pt}$ ├─── DIC_corrected  <br>\n",
    "$\\hspace{30pt}$ ├─── Masks <br>\n",
    "$\\hspace{30pt}$ ├─── Results <br>\n",
    "$\\hspace{30pt}$ ├─── Spots <br>\n",
    "$\\hspace{30pt}$ ├─── Spots decomposition <br>\n",
    "$\\hspace{30pt}$ └─── Zprojection <br>"
   ]
  },
  {
   "cell_type": "code",
   "execution_count": null,
   "metadata": {},
   "outputs": [],
   "source": [
    "# this checks if the folder supplied above contains the necessary files for the \n",
    "# dataprocessing pipeline. Per image we check whether nuclear and cell masks are present.\n",
    "\n",
    "ensure_files_exist(root_dir)"
   ]
  },
  {
   "cell_type": "markdown",
   "metadata": {},
   "source": [
    "***"
   ]
  },
  {
   "cell_type": "markdown",
   "metadata": {},
   "source": [
    "## 3.0 - npy to tif conversion"
   ]
  },
  {
   "cell_type": "code",
   "execution_count": null,
   "metadata": {},
   "outputs": [],
   "source": [
    "for segmentation_output_path in glob(f\"{root_dir}/Masks/*.npy\"):\n",
    "    segmentation_output = np.load(segmentation_output_path, allow_pickle=True)\n",
    "    io.imsave(\n",
    "        Path(segmentation_output_path).with_suffix('.tif'), \n",
    "        segmentation_output[()]['masks'].astype('uint16')\n",
    "    )"
   ]
  }
 ],
 "metadata": {
  "kernelspec": {
   "display_name": "Python 3 (ipykernel)",
   "language": "python",
   "name": "python3"
  },
  "language_info": {
   "codemirror_mode": {
    "name": "ipython",
    "version": 3
   },
   "file_extension": ".py",
   "mimetype": "text/x-python",
   "name": "python",
   "nbconvert_exporter": "python",
   "pygments_lexer": "ipython3",
   "version": "3.10.9"
  }
 },
 "nbformat": 4,
 "nbformat_minor": 4
}
