{
 "cells": [
  {
   "cell_type": "markdown",
   "id": "a3c415c4",
   "metadata": {},
   "source": [
    "# <span style=\"color:darkblue\">03-Spot_decomposition</span>"
   ]
  },
  {
   "cell_type": "markdown",
   "id": "430fe92a",
   "metadata": {},
   "source": [
    "In this notebook we will guide you through performing spot decomposition using the BigFISH libray, opening your images in Napari, and saving the generated decomposed spot detection data. We decompose Transcription sites (Txs) within the cell nucleus to estimate the number of nascent mRNAs. For more documentation of the BigFISH library see: https://big-fish.readthedocs.io/en/stable/index.html. At the bottom of this notebook batch decomposition can be performed."
   ]
  },
  {
   "cell_type": "markdown",
   "id": "f340eab0",
   "metadata": {},
   "source": [
    "## 3.0 - Load libraries"
   ]
  },
  {
   "cell_type": "code",
   "execution_count": 11,
   "id": "af9894ed",
   "metadata": {},
   "outputs": [],
   "source": [
    "import re\n",
    "from glob import glob\n",
    "from skimage import io\n",
    "from pathlib import Path\n",
    "import numpy as np\n",
    "import napari\n",
    "import matplotlib.pyplot as plt\n",
    "from bigfish.detection import decompose_dense\n",
    "from bigfish.stack import remove_background_gaussian\n",
    "\n",
    "import sys\n",
    "sys.path.append('../')\n",
    "from src.misc import group_experiments_sd, load_data"
   ]
  },
  {
   "cell_type": "markdown",
   "id": "d907fc1a-1ebc-4b60-b6bd-8de9b15630d1",
   "metadata": {},
   "source": [
    "***"
   ]
  },
  {
   "cell_type": "markdown",
   "id": "e4df16a2",
   "metadata": {},
   "source": [
    "## 3.1 - Example of spot decomposition on a single image"
   ]
  },
  {
   "cell_type": "code",
   "execution_count": 12,
   "id": "216420f0",
   "metadata": {},
   "outputs": [
    {
     "name": "stdout",
     "output_type": "stream",
     "text": [
      "loaded : 396\n"
     ]
    }
   ],
   "source": [
    "#choose FISH channel\n",
    "channel='CY35'\n",
    "Strain= 'CET111'\n",
    "mRNA='HWP1CAL610CLB2Q670'\n",
    "condition='SPIDER37'\n",
    "Fov='02'\n",
    "# load image data\n",
    "RNAs = io.imread(f'../data/restructured_data/replicate1/{Strain}_{mRNA}_{condition}_{channel}_{Fov}.tif')\n",
    "DAPI = io.imread(f'../data/restructured_data/replicate1//{Strain}_{mRNA}_{condition}_DAPI_{Fov}.tif')\n",
    "DIC = io.imread(f'../data/restructured_data/replicate1//{Strain}_{mRNA}_{condition}_DIC_{Fov}.tif')\n",
    "mask = io.imread(f'../data/restructured_data/replicate1//Masks/{Strain}_{mRNA}_{condition}_DIC_{Fov}_seg.tif')\n",
    "nuclear_mask = io.imread(f'../data/restructured_data/replicate1/Masks/{Strain}_{mRNA}_{condition}_DAPI_{Fov}_seg.tif')\n",
    "\n",
    "# load spot data\n",
    "spot_data = np.load(glob(f'../data/restructured_data/replicate1/Spots/{Strain}_{mRNA}_{condition}_{channel}_{Fov}_spots_thr*.npy')[0])\n",
    "print(f'loaded : {len(spot_data)}')"
   ]
  },
  {
   "cell_type": "markdown",
   "id": "a8edfc63",
   "metadata": {},
   "source": [
    "Add the loaded data to a Napari viewer and inspect whether the data is loaded correctly."
   ]
  },
  {
   "cell_type": "code",
   "execution_count": 13,
   "id": "3f7067af",
   "metadata": {},
   "outputs": [
    {
     "data": {
      "text/plain": [
       "<Points layer 'spot_data' at 0x20890e840d0>"
      ]
     },
     "execution_count": 13,
     "metadata": {},
     "output_type": "execute_result"
    }
   ],
   "source": [
    "viewer=napari.Viewer()\n",
    "\n",
    "#scale\n",
    "scale = (200,65,65)\n",
    "\n",
    "viewer.add_image(RNAs, name='RNA channel',scale=scale)\n",
    "viewer.add_image(DAPI, name='DAPI channel',scale=scale)\n",
    "\n",
    "# parameter for guassian filtering\n",
    "sigma = (0.75,2.3,2.3)\n",
    "# guassian filtering\n",
    "filt_RNAs=remove_background_gaussian(RNAs, sigma=sigma)\n",
    "\n",
    "viewer.add_image(filt_RNAs, name='filt RNA channel',scale=scale)\n",
    "viewer.add_labels(nuclear_mask, name='nuclei',scale=scale[-2:])\n",
    "viewer.add_points(spot_data,scale=scale)"
   ]
  },
  {
   "cell_type": "markdown",
   "id": "300cf6b1",
   "metadata": {},
   "source": [
    "Decompose dense regions into seperate spots."
   ]
  },
  {
   "cell_type": "code",
   "execution_count": 14,
   "id": "263d2c1a-d942-4166-a6cf-0e5fcb245108",
   "metadata": {},
   "outputs": [],
   "source": [
    "# parameters\n",
    "spot_radius = (1250, 170, 170)"
   ]
  },
  {
   "cell_type": "code",
   "execution_count": 15,
   "id": "4a85c573",
   "metadata": {},
   "outputs": [],
   "source": [
    "spots, dense_regions, reference_spots = decompose_dense(\n",
    "    viewer.layers['filt RNA channel'].data,\n",
    "    spot_data,\n",
    "    voxel_size=scale,\n",
    "    spot_radius=spot_radius,\n",
    "    alpha=0.5,beta=2,gamma=1\n",
    ")"
   ]
  },
  {
   "cell_type": "markdown",
   "id": "d76cff49",
   "metadata": {},
   "source": [
    "Inspect whether the reference spot looks approximately gaussian."
   ]
  },
  {
   "cell_type": "code",
   "execution_count": 16,
   "id": "86ab8233",
   "metadata": {},
   "outputs": [
    {
     "data": {
      "image/png": "[encoded data removed]",
      "text/plain": [
       "<Figure size 2000x1000 with 23 Axes>"
      ]
     },
     "metadata": {},
     "output_type": "display_data"
    }
   ],
   "source": [
    "fig,axis=plt.subplots(ncols=reference_spots.shape[0],figsize=(20,10))\n",
    "\n",
    "for i,ax in zip(range(len(axis)),axis):\n",
    "    ax.imshow(reference_spots[i])\n",
    "    ax.get_xaxis().set_visible(False)\n",
    "    ax.get_yaxis().set_visible(False)"
   ]
  },
  {
   "cell_type": "markdown",
   "id": "002ea7a5",
   "metadata": {},
   "source": [
    "Inspect the detected dense RNA regions in Napari. Make sure all TXs in the nuclei are correctly identified. \n",
    "\n",
    "Note: false Txs identified outside of the cell nucleus will be filtered out in the next notebook."
   ]
  },
  {
   "cell_type": "code",
   "execution_count": 17,
   "id": "697e92d1",
   "metadata": {
    "scrolled": false
   },
   "outputs": [
    {
     "data": {
      "text/plain": [
       "<Points layer 'Txs' at 0x2088fb9a800>"
      ]
     },
     "execution_count": 17,
     "metadata": {},
     "output_type": "execute_result"
    }
   ],
   "source": [
    "viewer.add_points(\n",
    "    dense_regions[:,:3],\n",
    "    scale=scale,\n",
    "    edge_color='blue',\n",
    "    name='Txs'\n",
    ")\n"
   ]
  },
  {
   "cell_type": "markdown",
   "id": "12c33473",
   "metadata": {},
   "source": [
    "Number of Nascent RNAs per potential Txs."
   ]
  },
  {
   "cell_type": "code",
   "execution_count": 18,
   "id": "6e7f041d",
   "metadata": {},
   "outputs": [
    {
     "data": {
      "image/png": "[encoded data removed]",
      "text/plain": [
       "<Figure size 640x480 with 1 Axes>"
      ]
     },
     "metadata": {},
     "output_type": "display_data"
    }
   ],
   "source": [
    "fig, ax = plt.subplots(facecolor='white')\n",
    "ax.hist(dense_regions[:, 3])\n",
    "ax.set_xlabel('RNas per Dense region')\n",
    "ax.set_ylabel('counts')\n",
    "ax.set_xticks(range(0, max(dense_regions[:, 3] + 1), 50));"
   ]
  },
  {
   "cell_type": "markdown",
   "id": "d6f12ce6-b627-4690-a5ad-ae0952116d3c",
   "metadata": {},
   "source": [
    "***"
   ]
  },
  {
   "cell_type": "markdown",
   "id": "5dccb0f3",
   "metadata": {},
   "source": [
    "## 3.2 - Batch decomposition"
   ]
  },
  {
   "cell_type": "code",
   "execution_count": 19,
   "id": "f9897bd5",
   "metadata": {},
   "outputs": [],
   "source": [
    "# paths\n",
    "root_dir = '../Data/restructured_data/replicate1'\n",
    "\n",
    "#choose FISH channel\n",
    "channel='CY35'\n",
    "\n",
    "#parameters - adjust if necessary\n",
    "scale = (200, 65, 65)\n",
    "spot_radius = (1250, 170, 170)\n",
    "sigma=(0.75, 2.3, 2.3)\n",
    "patch_size = (200, 200)"
   ]
  },
  {
   "cell_type": "code",
   "execution_count": 20,
   "id": "9b4d1b4a",
   "metadata": {
    "scrolled": true
   },
   "outputs": [
    {
     "name": "stdout",
     "output_type": "stream",
     "text": [
      "I found the following experiments:\n",
      "dict_keys(['CET111_HWP1CAL610CLB2Q670_SPIDER37', 'CET111_HWP1CAL610CLB2Q670_TSB30', 'CET111_HWP1CAL610CLB2Q670_TSB37'])\n",
      "select applicable experiments\n"
     ]
    }
   ],
   "source": [
    "experiments = group_experiments_sd(root_dir,channel)\n",
    "\n",
    "print('I found the following experiments:')\n",
    "print(experiments.keys())\n",
    "print('select applicable experiments')"
   ]
  },
  {
   "cell_type": "code",
   "execution_count": 21,
   "id": "4eb73c64",
   "metadata": {
    "scrolled": true
   },
   "outputs": [
    {
     "name": "stdout",
     "output_type": "stream",
     "text": [
      "processing identifier='CET111_HWP1CAL610CLB2Q670_SPIDER37', replicate=2\n",
      "done\n",
      "----------\n"
     ]
    },
    {
     "name": "stderr",
     "output_type": "stream",
     "text": [
      "C:\\Users\\asus5\\AppData\\Local\\Temp\\ipykernel_22256\\3241948582.py:37: UserWarning: D:\\smFISH-analysis-main2WTHWP1CLB2\\Data\\restructured_data\\replicate1\\Spots decomposition\\CET111_HWP1CAL610CLB2Q670_SPIDER37_CY35_02_spots_thr8_rf_spot.tif is a low contrast image\n",
      "  io.imsave(Path(save_path.parents[0],f\"{save_path.name}_rf_spot.tif\"), reference_spots)\n"
     ]
    }
   ],
   "source": [
    "channel='CY35'\n",
    "experiments_to_process = ['CET111_HWP1CAL610CLB2Q670_SPIDER37']\n",
    "\n",
    "for identifier in experiments_to_process:\n",
    "    replicates = experiments[identifier]\n",
    "    \n",
    "    for replicate, paths, in replicates.items():\n",
    "        print(f'processing {identifier=}, {replicate=}')\n",
    "        data = load_data(paths)\n",
    "        spot_file_name = Path(paths['spots']).stem\n",
    "        save_path = Path(root_dir,'Spots decomposition',spot_file_name)\n",
    "        \n",
    "        process = True\n",
    "        # check if all files required for this step have been loaded\n",
    "        for entry in ['spots', channel]:\n",
    "            if data.get(entry) is None:\n",
    "                print(f'{identifier=}, {replicate=}, {entry=} could not be found')\n",
    "                print(f'skipping {identifier=}, {replicate=}!')\n",
    "                process=False\n",
    "        \n",
    "        if process:\n",
    "            RNAs = data.get(channel)            \n",
    "            spot_data = data.get('spots')\n",
    "            \n",
    "            RNAs_filt=remove_background_gaussian(RNAs, sigma=sigma)\n",
    "            \n",
    "            spots, dense_regions, reference_spots = decompose_dense(\n",
    "                RNAs_filt,\n",
    "                spot_data,\n",
    "                voxel_size=scale,\n",
    "                spot_radius=spot_radius,\n",
    "                alpha=0.5,beta=2,gamma=1\n",
    "            )\n",
    "            \n",
    "            np.save(fr\"{save_path}.npy\", spots)\n",
    "            np.save(Path(save_path.parents[0],f\"{save_path.name}_dd_regions.npy\"), dense_regions)\n",
    "            io.imsave(Path(save_path.parents[0],f\"{save_path.name}_rf_spot.tif\"), reference_spots)\n",
    "            \n",
    "            print('done')\n",
    "            \n",
    "        print(10*'-')"
   ]
  },
  {
   "cell_type": "code",
   "execution_count": null,
   "id": "3c9fb8ed",
   "metadata": {},
   "outputs": [],
   "source": []
  }
 ],
 "metadata": {
  "kernelspec": {
   "display_name": "Python 3 (ipykernel)",
   "language": "python",
   "name": "python3"
  },
  "language_info": {
   "codemirror_mode": {
    "name": "ipython",
    "version": 3
   },
   "file_extension": ".py",
   "mimetype": "text/x-python",
   "name": "python",
   "nbconvert_exporter": "python",
   "pygments_lexer": "ipython3",
   "version": "3.10.9"
  }
 },
 "nbformat": 4,
 "nbformat_minor": 5
}
