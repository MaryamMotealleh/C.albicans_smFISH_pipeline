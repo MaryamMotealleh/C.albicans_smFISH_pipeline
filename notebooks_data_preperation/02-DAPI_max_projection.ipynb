{
 "cells": [
  {
   "cell_type": "markdown",
   "id": "998a3d7c",
   "metadata": {},
   "source": [
    "# <span style=\"color:seagreen\">02-DAPI_max_projection</span>"
   ]
  },
  {
   "cell_type": "markdown",
   "id": "45ad83db",
   "metadata": {},
   "source": [
    "In this notebook we will guide you through performing max projection of the DAPI channel. This max-projection is then used to create nuclear cell masks. Nuclear masks are then used to identify transcription sites. Note to perform the steps in this notebook, we will first need to create cell masks using Cellpose. "
   ]
  },
  {
   "cell_type": "markdown",
   "id": "b7f97407",
   "metadata": {},
   "source": [
    "## 2.0 - Load libraries"
   ]
  },
  {
   "cell_type": "code",
   "execution_count": null,
   "id": "afa6c0c5",
   "metadata": {},
   "outputs": [],
   "source": [
    "import numpy as np\n",
    "from glob import glob\n",
    "from pathlib import Path\n",
    "import re\n",
    "from skimage import io\n",
    "import matplotlib.pyplot as plt\n",
    "from bigfish.detection import detect_spots\n",
    "from bigfish.stack import remove_background_gaussian\n",
    "from bigfish.stack import get_in_focus_indices\n",
    "from bigfish.stack import compute_focus\n",
    "from scipy.signal import savgol_filter\n",
    "import napari\n",
    "import seaborn as sns\n",
    "\n",
    "import sys\n",
    "sys.path.append('../')\n",
    "\n",
    "from src.misc import group_experiments, load_data, find_high_density_patch, find_in_focus_indices"
   ]
  },
  {
   "cell_type": "markdown",
   "id": "dd754ec9",
   "metadata": {},
   "source": [
    "## 2.1 - Load data "
   ]
  },
  {
   "cell_type": "markdown",
   "id": "6b6d3a31",
   "metadata": {},
   "source": [
    "To perform zprojection of the in-focus layers a cell mask is required, as this is used to compute the in-focus layers in area with high cell density. Make sure you have created a cell mask an this mask can be found in the Masks folder, according to the format: \"strain_mRNAs_condition_DIC_fovid_seg.tif\"."
   ]
  },
  {
   "cell_type": "code",
   "execution_count": null,
   "id": "f7ee1775",
   "metadata": {},
   "outputs": [],
   "source": [
    "root_dir = '../Data/restructured_data/replicate1'\n",
    "experiments = group_experiments(root_dir)\n",
    "experiments_to_process=list(experiments.keys())\n",
    "print(experiments_to_process)"
   ]
  },
  {
   "cell_type": "markdown",
   "id": "91ce4d92",
   "metadata": {},
   "source": [
    "Check if the cell mask of the selected image is loaded below. The format for the cell maks to be recognized is the name of the  corresponding DIC photo and ends with \"_seg.tif\"."
   ]
  },
  {
   "cell_type": "code",
   "execution_count": null,
   "id": "4ca4d980",
   "metadata": {},
   "outputs": [],
   "source": [
    "# select strain_mRNAs_condition and fovid combination \n",
    "identifier = 'cbk1_CLB2Q670HWP1CAL610_SPIDER37'\n",
    "fovid= 6\n",
    "\n",
    "experiments[identifier][fovid]"
   ]
  },
  {
   "cell_type": "markdown",
   "id": "02c6462b",
   "metadata": {},
   "source": [
    "## 2.2 - Perform Zprojection"
   ]
  },
  {
   "cell_type": "markdown",
   "id": "96f96891",
   "metadata": {},
   "source": [
    "Perform Zprojection of the in-focus layers of the loaded image for which cell masks are available."
   ]
  },
  {
   "cell_type": "code",
   "execution_count": null,
   "id": "c60e903f",
   "metadata": {},
   "outputs": [],
   "source": [
    "#select a patch to calculate the in-focus layers.\n",
    "patch_size = (500, 500)"
   ]
  },
  {
   "cell_type": "code",
   "execution_count": null,
   "id": "91016f5c",
   "metadata": {
    "scrolled": true
   },
   "outputs": [],
   "source": [
    "for identifier in experiments_to_process:\n",
    "    fovs = experiments[identifier]\n",
    "    \n",
    "    for fov, paths, in fovs.items():\n",
    "        print(f'processing {identifier=}, {fov=}')\n",
    "        data = load_data(paths)\n",
    "        \n",
    "        #choose channel to perform maxprojection on\n",
    "        channel='DAPI'\n",
    "        \n",
    "        process = True\n",
    "        # check if all files required for this step have been loaded\n",
    "        for entry in ['cell_mask', channel]:\n",
    "            if data.get(entry) is None:\n",
    "                print(f'{identifier=}, {fov=}, {entry=} could not be found')\n",
    "                print(f'skipping {identifier=}, {fov=}!')\n",
    "                process=False\n",
    "        if process:\n",
    "            #load channel.\n",
    "            RNAs = data.get(channel)    \n",
    "\n",
    "            mask = data.get('cell_mask')    \n",
    "            #select high density patch.\n",
    "            selected_patch = find_high_density_patch(mask, patch_size=patch_size)\n",
    "\n",
    "            img_patch = RNAs[:,\n",
    "                selected_patch[0]:selected_patch[0] + patch_size[0],\n",
    "                selected_patch[1]:selected_patch[1] + patch_size[1]\n",
    "            ]\n",
    "\n",
    "\n",
    "            #compute in-focus layers\n",
    "            focus = compute_focus(img_patch)\n",
    "            projected_focus = np.max(focus, axis=(1, 2))\n",
    "\n",
    "            #find in-focus layers\n",
    "            projected_focus_smoothed = savgol_filter(projected_focus, 30, 2, 0)\n",
    "            ifx_1, ifx_2 = find_in_focus_indices(projected_focus_smoothed)\n",
    "            \n",
    "            Zprojection_name=f\"MAX_{Path(paths['DAPI']).name}\"\n",
    "\n",
    "            #perform max-projection\n",
    "            DAPI_maxed=np.amax(RNAs[ifx_1:ifx_2, ...],axis=0)\n",
    "\n",
    "            #save max projection\n",
    "            io.imsave(Path(root_dir,'Zprojection',Zprojection_name),DAPI_maxed)"
   ]
  },
  {
   "cell_type": "markdown",
   "id": "5d8ea214",
   "metadata": {},
   "source": [
    "## 2.3 - Labelling of nuclear masks based on Zprojection"
   ]
  },
  {
   "cell_type": "markdown",
   "id": "29e7c4a1",
   "metadata": {},
   "source": [
    "Perform labelling (nuclear mask creation) of all produced zprojection DAPI images. Here, we will use a produced zprojection to create a single nuclear masks image. These nuclear masks are used identify transcription sites during spot detection."
   ]
  },
  {
   "cell_type": "code",
   "execution_count": null,
   "id": "af4ad837",
   "metadata": {},
   "outputs": [],
   "source": [
    "Zprojection_paths=sorted(glob(str(Path(root_dir,'Zprojection',f'*.tif'))))"
   ]
  },
  {
   "cell_type": "code",
   "execution_count": null,
   "id": "0a1a0119",
   "metadata": {},
   "outputs": [],
   "source": [
    "import stackview\n",
    "from scipy.ndimage import label as nlabel\n",
    "\n",
    "#selecting images\n",
    "i=0\n",
    "\n",
    "zprojection=io.imread(Zprojection_paths[i])\n",
    "\n",
    "#choose value between 0 and 100 to determnine DAPI signal from background.\n",
    "threshold=40\n",
    "\n",
    "#threshold image\n",
    "image =(zprojection*(100/zprojection.max()))\n",
    "seeds=image>threshold\n",
    "labels,_=nlabel(seeds)\n",
    "\n",
    "#create stackview curtain\n",
    "stackview.curtain(zprojection, labels, continuous_update=True, alpha=0.5)"
   ]
  },
  {
   "cell_type": "code",
   "execution_count": null,
   "id": "ebaf3f89",
   "metadata": {},
   "outputs": [],
   "source": [
    "#save resulting mask\n",
    "nuclear_masks_name=f'{Path(Zprojection_paths[i]).stem[4:]}_seg.tif'\n",
    "    \n",
    "\n",
    "io.imsave(Path(Path(Zprojection_paths[i]).parents[1], 'Masks',nuclear_masks_name), labels)"
   ]
  },
  {
   "cell_type": "markdown",
   "id": "629e4103",
   "metadata": {},
   "source": [
    "## 2.4 - Batch labelling of nuclear masks "
   ]
  },
  {
   "cell_type": "code",
   "execution_count": null,
   "id": "01e11c05",
   "metadata": {},
   "outputs": [],
   "source": [
    "for zprojection_path in Zprojection_paths:\n",
    "    \n",
    "    zprojection=io.imread(zprojection_path)\n",
    "    threshold=50\n",
    "    image =(zprojection*(100/zprojection.max()))\n",
    "    seeds=image>threshold\n",
    "    labels,_=nlabel(seeds)\n",
    "    \n",
    "    nuclear_masks_name=f'{Path(zprojection_path).stem[4:]}_seg.tif'\n",
    "    \n",
    "\n",
    "    io.imsave(Path(Path(zprojection_path).parents[1], 'Masks',nuclear_masks_name), labels)"
   ]
  },
  {
   "cell_type": "markdown",
   "id": "e00f1870",
   "metadata": {},
   "source": [
    "## 2.5 - Check and correct DAPI Mask corrections in Napari"
   ]
  },
  {
   "cell_type": "markdown",
   "id": "f5f6c63a",
   "metadata": {},
   "source": [
    "Now that we have created nuclear masks these can be loaded an edited if necessary using Napari."
   ]
  },
  {
   "cell_type": "code",
   "execution_count": null,
   "id": "24348ff8",
   "metadata": {},
   "outputs": [],
   "source": [
    "root_dir = '../data/restructured_data/replicate1'\n",
    "experiments = group_experiments(root_dir)"
   ]
  },
  {
   "cell_type": "code",
   "execution_count": null,
   "id": "397819b5",
   "metadata": {},
   "outputs": [],
   "source": [
    "experiments[identifier]"
   ]
  },
  {
   "cell_type": "code",
   "execution_count": null,
   "id": "22fce1a6",
   "metadata": {},
   "outputs": [],
   "source": [
    "identifier='cbk1_CLB2Q670HWP1CAL610_SPIDER37'\n",
    "fov=6\n",
    "\n",
    "viewer=napari.Viewer()\n",
    "\n",
    "fov = experiments[identifier][fov]\n",
    " \n",
    "        \n",
    "#load images\n",
    "DAPI = io.imread(fov['DAPI'])\n",
    "nuclear_mask = io.imread(fov['nuclear_mask'])\n",
    "\n",
    "viewer.add_image(DAPI)\n",
    "\n",
    "viewer.add_labels(nuclear_mask, name='nuclear_mask')"
   ]
  },
  {
   "cell_type": "code",
   "execution_count": null,
   "id": "74eed884",
   "metadata": {
    "scrolled": true
   },
   "outputs": [],
   "source": [
    "#overwrite nuclear masks with one loaded in the napari viewer.\n",
    "io.imsave(fov['nuclear_mask'],viewer.layers['nuclear_mask'].data)"
   ]
  }
 ],
 "metadata": {
  "kernelspec": {
   "display_name": "Python 3 (ipykernel)",
   "language": "python",
   "name": "python3"
  },
  "language_info": {
   "codemirror_mode": {
    "name": "ipython",
    "version": 3
   },
   "file_extension": ".py",
   "mimetype": "text/x-python",
   "name": "python",
   "nbconvert_exporter": "python",
   "pygments_lexer": "ipython3",
   "version": "3.10.9"
  }
 },
 "nbformat": 4,
 "nbformat_minor": 5
}
