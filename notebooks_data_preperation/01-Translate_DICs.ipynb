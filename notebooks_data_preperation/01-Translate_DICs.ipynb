{
 "cells": [
  {
   "cell_type": "markdown",
   "id": "5f2ee647",
   "metadata": {},
   "source": [
    "# <span style=\"color:seagreen\">01-Translate_DICs</span>"
   ]
  },
  {
   "cell_type": "markdown",
   "id": "86d9745e",
   "metadata": {},
   "source": [
    "In this notebook we will guide you through performing DIC translation. Due to the usage of the DIC filter, a shift in the xy dimension compared to the fluorescent images is introduced. In this notebook we we will perform a translation on the DIC images to correct for this shift. This is necessary as the DIC images are used to create the cell masks by Cellpose."
   ]
  },
  {
   "cell_type": "markdown",
   "id": "ce3a3630",
   "metadata": {},
   "source": [
    "## 1.0 - Load libraries"
   ]
  },
  {
   "cell_type": "code",
   "execution_count": 1,
   "id": "f4bed25d",
   "metadata": {},
   "outputs": [],
   "source": [
    "import numpy as np\n",
    "from glob import glob\n",
    "from pathlib import Path\n",
    "import re\n",
    "from skimage import io\n",
    "import matplotlib.pyplot as plt\n",
    "from bigfish.detection import detect_spots\n",
    "from bigfish.stack import remove_background_gaussian\n",
    "from bigfish.stack import get_in_focus_indices\n",
    "from bigfish.stack import compute_focus\n",
    "from scipy.signal import savgol_filter\n",
    "import napari\n",
    "import seaborn as sns\n",
    "from scipy.ndimage import shift\n",
    "import sys\n",
    "sys.path.append('../')\n",
    "\n",
    "from src.misc import group_experiments, load_data, find_high_density_patch, find_in_focus_indices, translate"
   ]
  },
  {
   "cell_type": "markdown",
   "id": "8f4b8651",
   "metadata": {},
   "source": [
    "***"
   ]
  },
  {
   "cell_type": "markdown",
   "id": "5abe3389",
   "metadata": {},
   "source": [
    "## 1.1 - Load fluorescent channels and DIC of a single image"
   ]
  },
  {
   "cell_type": "markdown",
   "id": "881dc31e",
   "metadata": {},
   "source": [
    "Here we will examine and explore the created data structure. Next, we will load a DIC and the fluorescent image stack of single field of view (fov)."
   ]
  },
  {
   "cell_type": "code",
   "execution_count": 2,
   "id": "f15bf7c1",
   "metadata": {
    "scrolled": true
   },
   "outputs": [],
   "source": [
    "root_dir = '../Data/restructured_data/replicate1'\n",
    "experiments = group_experiments(root_dir)\n",
    "experiments_to_process=list(experiments.keys())"
   ]
  },
  {
   "cell_type": "code",
   "execution_count": 3,
   "id": "df7abb8d",
   "metadata": {
    "scrolled": true
   },
   "outputs": [
    {
     "name": "stdout",
     "output_type": "stream",
     "text": [
      "These are the strain + mRNAs + condition combinations found:\n"
     ]
    },
    {
     "data": {
      "text/plain": [
       "[]"
      ]
     },
     "execution_count": 3,
     "metadata": {},
     "output_type": "execute_result"
    }
   ],
   "source": [
    "# some descriptions of the provided data\n",
    "print('These are the strain + mRNAs + condition combinations found:')\n",
    "experiments_to_process"
   ]
  },
  {
   "cell_type": "code",
   "execution_count": null,
   "id": "63ebdfa7",
   "metadata": {},
   "outputs": [],
   "source": [
    "print('These fovs (field of view, i.e. a single imaging location) are found within a single of these combinations:')\n",
    "experiments['cbk1_CLB2Q670HWP1CAL610_SPIDER37']"
   ]
  },
  {
   "cell_type": "code",
   "execution_count": null,
   "id": "577363e1",
   "metadata": {},
   "outputs": [],
   "source": [
    "print('These are the channels and DIC images found within a single fov:')\n",
    "experiments['cbk1_CLB2Q670HWP1CAL610_SPIDER37'][3]"
   ]
  },
  {
   "cell_type": "code",
   "execution_count": null,
   "id": "1a63f655",
   "metadata": {},
   "outputs": [],
   "source": [
    "# select a single channel of a field of view (fov), i.e a single imaging xy postion with the corresponding DIC image.\n",
    "fov_id=3\n",
    "\n",
    "fov=io.imread(experiments['cbk1_CLB2Q670HWP1CAL610_SPIDER37'][fov_id]['CY5'])\n",
    "DIC=io.imread(experiments['cbk1_CLB2Q670HWP1CAL610_SPIDER37'][fov_id]['DIC'])"
   ]
  },
  {
   "cell_type": "markdown",
   "id": "be71cf15",
   "metadata": {},
   "source": [
    "## 1.2 - Zprojection of a single channel of a fov"
   ]
  },
  {
   "cell_type": "markdown",
   "id": "0bf25c1b",
   "metadata": {},
   "source": [
    "Next we will perform a maximal intensity projection over the in-focus z-layers of a single channel of the fov to create a 2d representation of this channel. This 2D representation will be used to perform image registration of the DIC image and the fluorescent zstack image."
   ]
  },
  {
   "cell_type": "code",
   "execution_count": null,
   "id": "a889874b",
   "metadata": {},
   "outputs": [],
   "source": [
    "# perform maximal intensity projection over the z-dimension\n",
    "zstart= 40 # the starting in-focus layer\n",
    "zend= 60 # last in-focus layer\n",
    "proj_fov=np.amax(fov[zstart : zend,...],axis=0)\n",
    "\n",
    "#plot images\n",
    "fig, ax= plt.subplots(ncols=2,figsize=(10,10))\n",
    "\n",
    "#left column plot\n",
    "ax[0].imshow(proj_fov)\n",
    "ax[0].set_title('zprojection fluorescent image stack')\n",
    "\n",
    "#right column plot\n",
    "ax[1].imshow(DIC)\n",
    "ax[1].set_title('DIC')"
   ]
  },
  {
   "cell_type": "markdown",
   "id": "a5262653",
   "metadata": {},
   "source": [
    "***"
   ]
  },
  {
   "cell_type": "markdown",
   "id": "8cba80ce",
   "metadata": {},
   "source": [
    "## 1.2 - Use the napari viewer + widget to translate the DIC image"
   ]
  },
  {
   "cell_type": "markdown",
   "id": "65315029",
   "metadata": {},
   "source": [
    "Now, we will add the projected fluorescent fov and the DIC image to the napari imaging viewer. Next, a docker widget is added to this viewer. This widget allows you to translate the DIC image using the keys: 'a' (left), 'w' (up), 's' (down), 'd' (right) keys. Note that per key press the DIC image moves only one pixel by default. This can be changed with the stepsize parameter within the widget. The translation coordinates can be printed within this notebook by pressing 't'."
   ]
  },
  {
   "cell_type": "code",
   "execution_count": null,
   "id": "00c3152b",
   "metadata": {},
   "outputs": [],
   "source": [
    "#instantiate the napar viewer\n",
    "viewer = napari.Viewer()\n",
    "\n",
    "viewer.add_image(DIC,  opacity=0.5)\n",
    "viewer.add_image(proj_fov)\n",
    "\n",
    "\n",
    "#translation widget for layer alignment\n",
    "#keybindings are used, w:up,a:left,s:down,d:right. \n",
    "#to register and update napari coordinates press t.       \n",
    "viewer.window.add_dock_widget(translate())"
   ]
  },
  {
   "cell_type": "markdown",
   "id": "9ce55b8a",
   "metadata": {},
   "source": [
    "## 1.3 - Batch translation"
   ]
  },
  {
   "cell_type": "markdown",
   "id": "e8143154",
   "metadata": {},
   "source": [
    "Execute this code to use the image translation you performed above on all your images. Make sure to paste the image translation coordinates that are printed after **x, y:** above. Note, by modyfying the list in experiments_to_process folder you can only translate a subset of your images."
   ]
  },
  {
   "cell_type": "code",
   "execution_count": null,
   "id": "990d30b8",
   "metadata": {},
   "outputs": [],
   "source": [
    "root_dir = '../Data/restructured_data/replicate1'\n",
    "experiments = group_experiments(root_dir)\n",
    "experiments_to_process=list(experiments.keys())\n",
    "experiments_to_process="
   ]
  },
  {
   "cell_type": "code",
   "execution_count": null,
   "id": "2e80ae55",
   "metadata": {
    "scrolled": true
   },
   "outputs": [],
   "source": [
    "root_dir = '../Data/restructured_data/replicate1'\n",
    "\n",
    "for identifier in experiments_to_process:\n",
    "    fovs = experiments[identifier]\n",
    "    \n",
    "    for fov, paths, in fovs.items():\n",
    "        print(f'processing {identifier=}, {fov=}')\n",
    "        data = load_data(paths)\n",
    "        \n",
    "        #choose channel to perform spot detection in.\n",
    "        channel='DIC'\n",
    "        \n",
    "        #load channel.\n",
    "        DIC = data.get(channel)\n",
    "        \n",
    "        #copy x,y numbers from print statement above here        \n",
    "        x,y= -15.0,10.0\n",
    "        \n",
    "        #shift x, y\n",
    "        DIC_shift=shift(DIC,[x,y])\n",
    "        \n",
    "        #reformat save location\n",
    "        DIC_name=Path(paths['DIC']).name\n",
    "        \n",
    "        #save DIC, uncomment to save\n",
    "        io.imsave(Path(root_dir,'Corrected DIC',DIC_name),DIC_shift)"
   ]
  }
 ],
 "metadata": {
  "kernelspec": {
   "display_name": "Python 3 (ipykernel)",
   "language": "python",
   "name": "python3"
  },
  "language_info": {
   "codemirror_mode": {
    "name": "ipython",
    "version": 3
   },
   "file_extension": ".py",
   "mimetype": "text/x-python",
   "name": "python",
   "nbconvert_exporter": "python",
   "pygments_lexer": "ipython3",
   "version": "3.10.9"
  }
 },
 "nbformat": 4,
 "nbformat_minor": 5
}
