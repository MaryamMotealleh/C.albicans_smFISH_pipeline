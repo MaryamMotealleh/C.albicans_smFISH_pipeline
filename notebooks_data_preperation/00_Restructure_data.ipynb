{
 "cells": [
  {
   "cell_type": "markdown",
   "id": "81c685d9",
   "metadata": {},
   "source": [
    "# <span style=\"color:seagreen\">00-Restructure_data</span>"
   ]
  },
  {
   "cell_type": "markdown",
   "id": "3322581c",
   "metadata": {},
   "source": [
    "In this notebook we will guide you through restructuring your data. For the smFISH a particular folder and filename structure is expected. We will use this notebook to structure your data according to this format."
   ]
  },
  {
   "cell_type": "markdown",
   "id": "320df062",
   "metadata": {},
   "source": [
    "***"
   ]
  },
  {
   "cell_type": "markdown",
   "id": "fa3c7fa3",
   "metadata": {},
   "source": [
    "## 0.0 - Loading data"
   ]
  },
  {
   "cell_type": "code",
   "execution_count": 2,
   "id": "3dcc3723",
   "metadata": {},
   "outputs": [],
   "source": [
    "from glob import glob\n",
    "from pathlib import Path\n",
    "from skimage import io\n",
    "import warnings\n",
    "warnings.filterwarnings('ignore')"
   ]
  },
  {
   "cell_type": "markdown",
   "id": "7f4f3b60",
   "metadata": {},
   "source": [
    "## 0.1 - Loading path to images"
   ]
  },
  {
   "cell_type": "markdown",
   "id": "67f993a4",
   "metadata": {},
   "source": [
    "First we will load the paths to our images in the variable \"image_paths\". You will also have to provide the order of channels epxected in each fluorescent image stack."
   ]
  },
  {
   "cell_type": "code",
   "execution_count": 3,
   "id": "eaf18fcb",
   "metadata": {},
   "outputs": [],
   "source": [
    "#channel indexes, provide the right channel order. The default order is standardly given\n",
    "CY5_id, CY35_id, DAPI_id = 0,1,2 \n",
    "\n",
    "indexes=[CY5_id,CY35_id,DAPI_id]"
   ]
  },
  {
   "cell_type": "code",
   "execution_count": 5,
   "id": "959a6a68",
   "metadata": {},
   "outputs": [
    {
     "data": {
      "text/plain": [
       "[]"
      ]
     },
     "execution_count": 5,
     "metadata": {},
     "output_type": "execute_result"
    }
   ],
   "source": [
    "path=f'../Data/replicate1/HWP1_CLB2/*/*/*.tif'\n",
    "image_paths=sorted(glob(path))\n",
    "image_paths"
   ]
  },
  {
   "cell_type": "markdown",
   "id": "ab24281d",
   "metadata": {},
   "source": [
    "***"
   ]
  },
  {
   "cell_type": "markdown",
   "id": "71437aec",
   "metadata": {},
   "source": [
    "## 0.2 - Restructure data"
   ]
  },
  {
   "cell_type": "markdown",
   "id": "20ffa6b6",
   "metadata": {},
   "source": [
    "All data will be renamed and put in a single folder in \"../Data/restructured_data/replicate1\". "
   ]
  },
  {
   "cell_type": "code",
   "execution_count": null,
   "id": "40abd97a",
   "metadata": {
    "scrolled": false
   },
   "outputs": [],
   "source": [
    "savedir=f'../Data/restructured_data'\n",
    "\n",
    "i=1\n",
    "for image_path in image_paths:\n",
    "    #progress statement\n",
    "    print(f'processing image {i} of {len(image_paths)}')\n",
    "    i+=1\n",
    "    \n",
    "    # folder structure properties\n",
    "    p=Path(image_path)\n",
    "    \n",
    "    #get replicate mRNAs and condition from provided folder structure\n",
    "    rep,mRNA,condition,fov,image_name=p.parts[2:]\n",
    "    \n",
    "    # make replicate dir to save restructured data in\n",
    "    rep_dir=Path(savedir,rep)\n",
    "    rep_dir.mkdir(parents=True, exist_ok=True)\n",
    "    \n",
    "    #in case of single mRNA FISH\n",
    "    if len(mRNA.split('_'))==1:\n",
    "        # split image name properties\n",
    "        strain,mRNA_CY5,condition,fov=image_name.split('_')[:5]\n",
    "        mRNAs=mRNA_CY5\n",
    "        \n",
    "    #in case of dual mRNA FISH\n",
    "    if len(mRNA.split('_'))==2:\n",
    "        # split image name properties\n",
    "        strain,mRNA_CY5,mRNA_CY35,condition,fov=image_name.split('_')[:5]\n",
    "        mRNAs=mRNA_CY5+mRNA_CY35\n",
    "\n",
    "    # saving for DIC\n",
    "    if image_name.split('_')[-1]=='DIC.tif':\n",
    "        \n",
    "        #read DIC image into memory\n",
    "        print('reading DIC image')\n",
    "        DIC=io.imread(image_path)\n",
    "        \n",
    "        #reformatted name as expected for smFISH analysis\n",
    "        formatted_name=f'{strain}_{mRNAs}_{condition}_DIC_{fov}.tif'\n",
    "        \n",
    "        #print reformatted name\n",
    "        print(formatted_name)\n",
    "        \n",
    "        #save reformatted DIC images\n",
    "        io.imsave(Path(rep_dir,formatted_name),DIC)\n",
    "        \n",
    "    # saving for fluorescent images\n",
    "    if image_name.split('_')[-1]=='CY5, CY3.5 NAR, DAPI.tif':\n",
    "                \n",
    "        #read fluorescent image into memory\n",
    "        print('reading fluorescent image stack')\n",
    "        FC=io.imread(image_path)\n",
    "        \n",
    "        channels=['CY5','CY35','DAPI']\n",
    "        \n",
    "        print('splitting channels:')\n",
    "        \n",
    "        #split channels of fluorescent image and save seperately\n",
    "        for index, channels in zip(indexes,channels):\n",
    "            \n",
    "            #select channel of multi-channel image stack\n",
    "            FC_single_channel=FC[index,...]\n",
    "            \n",
    "            #reformat name\n",
    "            formatted_name=f'{strain}_{mRNAs}_{condition}_{channels}_{fov}.tif'\n",
    "            \n",
    "            #print reformatted name\n",
    "            print(formatted_name)\n",
    "            \n",
    "            #save \n",
    "            io.imsave(Path(rep_dir,formatted_name),FC_single_channel)\n",
    "    \n",
    "    print(' '*70)\n",
    "    print('#'*70)\n",
    "    print(' '*70)"
   ]
  },
  {
   "cell_type": "markdown",
   "id": "e7339e28",
   "metadata": {},
   "source": [
    "# 0.3- Create necessary folder for analysis "
   ]
  },
  {
   "cell_type": "markdown",
   "id": "751755e1",
   "metadata": {},
   "source": [
    "For the spot detection analysis we need to create cell masks and nuclear masks. During the creation of these masks and when performing smFISH spot quantification, several intermediate steps are saved. These folders are already created here."
   ]
  },
  {
   "cell_type": "code",
   "execution_count": null,
   "id": "bcd5a660",
   "metadata": {},
   "outputs": [],
   "source": [
    "for image_path in image_paths:    \n",
    "    # folder structure properties\n",
    "    p=Path(image_path)\n",
    "    rep,mRNA,condition,fov,image_name=p.parts[2:]\n",
    "    \n",
    "    # make replicate dir\n",
    "    rep_dir=Path(savedir,rep)\n",
    "    rep_dir.mkdir(parents=True, exist_ok=True)\n",
    "    \n",
    "    # make necessary dirs\n",
    "    dirs=['Spots','Masks','Spots decomposition','Zprojection','Results','Corrected DIC']\n",
    "    for ndir in dirs:\n",
    "        necessary_dir=Path(rep_dir,ndir)\n",
    "        necessary_dir.mkdir(parents=True, exist_ok=True)"
   ]
  }
 ],
 "metadata": {
  "kernelspec": {
   "display_name": "Python 3 (ipykernel)",
   "language": "python",
   "name": "python3"
  },
  "language_info": {
   "codemirror_mode": {
    "name": "ipython",
    "version": 3
   },
   "file_extension": ".py",
   "mimetype": "text/x-python",
   "name": "python",
   "nbconvert_exporter": "python",
   "pygments_lexer": "ipython3",
   "version": "3.10.9"
  }
 },
 "nbformat": 4,
 "nbformat_minor": 5
}
